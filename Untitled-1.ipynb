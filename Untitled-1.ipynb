{
 "cells": [
  {
   "cell_type": "code",
   "execution_count": 1,
   "metadata": {},
   "outputs": [
    {
     "name": "stdout",
     "output_type": "stream",
     "text": [
      "   Rank   NCT Number                                              Title  \\\n",
      "0     1  NCT04785898  Diagnostic Performance of the ID Now™ COVID-19...   \n",
      "1     2  NCT04595136  Study to Evaluate the Efficacy of COVID19-0001...   \n",
      "2     3  NCT04395482  Lung CT Scan Analysis of SARS-CoV2 Induced Lun...   \n",
      "3     4  NCT04416061  The Role of a Private Hospital in Hong Kong Am...   \n",
      "4     5  NCT04395924         Maternal-foetal Transmission of SARS-Cov-2   \n",
      "\n",
      "        Acronym                  Status         Study Results  \\\n",
      "0   COVID-IDNow  Active, not recruiting  No Results Available   \n",
      "1      COVID-19      Not yet recruiting  No Results Available   \n",
      "2   TAC-COVID19              Recruiting  No Results Available   \n",
      "3      COVID-19  Active, not recruiting  No Results Available   \n",
      "4  TMF-COVID-19              Recruiting  No Results Available   \n",
      "\n",
      "                                          Conditions  \\\n",
      "0                                            Covid19   \n",
      "1                               SARS-CoV-2 Infection   \n",
      "2                                            covid19   \n",
      "3                                              COVID   \n",
      "4  Maternal Fetal Infection Transmission|COVID-19...   \n",
      "\n",
      "                                       Interventions  \\\n",
      "0   Diagnostic Test: ID Now™ COVID-19 Screening Test   \n",
      "1    Drug: Drug COVID19-0001-USR|Drug: normal saline   \n",
      "2  Other: Lung CT scan analysis in COVID-19 patients   \n",
      "3          Diagnostic Test: COVID 19 Diagnostic Test   \n",
      "4  Diagnostic Test: Diagnosis of SARS-Cov2 by RT-...   \n",
      "\n",
      "                                    Outcome Measures  \\\n",
      "0  Evaluate the diagnostic performance of the ID ...   \n",
      "1  Change on viral load results from baseline aft...   \n",
      "2  A qualitative analysis of parenchymal lung dam...   \n",
      "3  Proportion of asymptomatic subjects|Proportion...   \n",
      "4  COVID-19 by positive PCR in cord blood and / o...   \n",
      "\n",
      "                               Sponsor/Collaborators  ...         Other IDs  \\\n",
      "0              Groupe Hospitalier Paris Saint Joseph  ...       COVID-IDNow   \n",
      "1                         United Medical Specialties  ...  COVID19-0001-USR   \n",
      "2                       University of Milano Bicocca  ...       TAC-COVID19   \n",
      "3                    Hong Kong Sanatorium & Hospital  ...        RC-2020-08   \n",
      "4  Centre Hospitalier Régional d'Orléans|Centre d...  ...      CHRO-2020-10   \n",
      "\n",
      "         Start Date Primary Completion Date   Completion Date  \\\n",
      "0  November 9, 2020       December 22, 2020    April 30, 2021   \n",
      "1  November 2, 2020       December 15, 2020  January 29, 2021   \n",
      "2       May 7, 2020           June 15, 2021     June 15, 2021   \n",
      "3      May 25, 2020           July 31, 2020   August 31, 2020   \n",
      "4       May 5, 2020                May 2021          May 2021   \n",
      "\n",
      "       First Posted Results First Posted Last Update Posted  \\\n",
      "0     March 8, 2021                  NaN      March 8, 2021   \n",
      "1  October 20, 2020                  NaN   October 20, 2020   \n",
      "2      May 20, 2020                  NaN   November 9, 2020   \n",
      "3      June 4, 2020                  NaN       June 4, 2020   \n",
      "4      May 20, 2020                  NaN       June 4, 2020   \n",
      "\n",
      "                                           Locations Study Documents  \\\n",
      "0  Groupe Hospitalier Paris Saint-Joseph, Paris, ...             NaN   \n",
      "1       Cimedical, Barranquilla, Atlantico, Colombia             NaN   \n",
      "2  Ospedale Papa Giovanni XXIII, Bergamo, Italy|P...             NaN   \n",
      "3  Hong Kong Sanatorium & Hospital, Hong Kong, Ho...             NaN   \n",
      "4                       CHR Orléans, Orléans, France             NaN   \n",
      "\n",
      "                                           URL  \n",
      "0  https://ClinicalTrials.gov/show/NCT04785898  \n",
      "1  https://ClinicalTrials.gov/show/NCT04595136  \n",
      "2  https://ClinicalTrials.gov/show/NCT04395482  \n",
      "3  https://ClinicalTrials.gov/show/NCT04416061  \n",
      "4  https://ClinicalTrials.gov/show/NCT04395924  \n",
      "\n",
      "[5 rows x 27 columns]\n"
     ]
    }
   ],
   "source": [
    "import pandas as pd\n",
    "\n",
    "# Load your dataset\n",
    "df = pd.read_csv('dataset.csv')  # Replace with your dataset file path\n",
    "\n",
    "# Display the first few rows of the dataset\n",
    "print(df.head())"
   ]
  },
  {
   "cell_type": "code",
   "execution_count": 2,
   "metadata": {},
   "outputs": [],
   "source": [
    "def generate_boolean_query(terms):\n",
    "    \"\"\"Generate a Boolean query string from terms.\"\"\"\n",
    "    return \" AND \".join([f\"{term}\" for term in terms])\n",
    "\n",
    "def search_articles(query):\n",
    "    \"\"\"Search articles based on the generated Boolean query.\"\"\"\n",
    "    # Assuming your dataset has a column 'abstract' or 'title' to search in\n",
    "    return df[df['abstract'].str.contains(query, case=False, na=False)]"
   ]
  }
 ],
 "metadata": {
  "kernelspec": {
   "display_name": "Python 3",
   "language": "python",
   "name": "python3"
  },
  "language_info": {
   "codemirror_mode": {
    "name": "ipython",
    "version": 3
   },
   "file_extension": ".py",
   "mimetype": "text/x-python",
   "name": "python",
   "nbconvert_exporter": "python",
   "pygments_lexer": "ipython3",
   "version": "3.9.0"
  }
 },
 "nbformat": 4,
 "nbformat_minor": 2
}
